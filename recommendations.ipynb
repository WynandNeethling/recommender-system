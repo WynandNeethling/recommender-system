{
  "nbformat": 4,
  "nbformat_minor": 0,
  "metadata": {
    "colab": {
      "provenance": [],
      "machine_shape": "hm"
    },
    "kernelspec": {
      "name": "python3",
      "display_name": "Python 3"
    },
    "language_info": {
      "name": "python"
    }
  },
  "cells": [
    {
      "cell_type": "markdown",
      "source": [
        "### Load Dataset"
      ],
      "metadata": {
        "id": "CsZUsBtMscYg"
      }
    },
    {
      "cell_type": "code",
      "execution_count": null,
      "metadata": {
        "colab": {
          "base_uri": "https://localhost:8080/"
        },
        "id": "XeDr-wuo2E9T",
        "outputId": "32efb3ca-c3e5-4011-8f10-15e8e81d1113"
      },
      "outputs": [
        {
          "output_type": "stream",
          "name": "stdout",
          "text": [
            "--2024-05-25 18:32:27--  https://files.grouplens.org/datasets/movielens/ml-25m.zip\n",
            "Resolving files.grouplens.org (files.grouplens.org)... 128.101.65.152\n",
            "Connecting to files.grouplens.org (files.grouplens.org)|128.101.65.152|:443... connected.\n",
            "HTTP request sent, awaiting response... 200 OK\n",
            "Length: 261978986 (250M) [application/zip]\n",
            "Saving to: ‘ml-25m.zip’\n",
            "\n",
            "ml-25m.zip          100%[===================>] 249.84M  17.3MB/s    in 16s     \n",
            "\n",
            "2024-05-25 18:32:44 (16.0 MB/s) - ‘ml-25m.zip’ saved [261978986/261978986]\n",
            "\n"
          ]
        }
      ],
      "source": [
        "!wget https://files.grouplens.org/datasets/movielens/ml-25m.zip"
      ]
    },
    {
      "cell_type": "code",
      "source": [
        "!unzip -qq ml-25m.zip"
      ],
      "metadata": {
        "id": "HPZ4sj4t2ZO2"
      },
      "execution_count": null,
      "outputs": []
    },
    {
      "cell_type": "code",
      "source": [
        "file_ratings = '/content/ml-25m/ratings.csv'\n",
        "file_movies = '/content/ml-25m/movies.csv'"
      ],
      "metadata": {
        "id": "907GuTd42b_i"
      },
      "execution_count": null,
      "outputs": []
    },
    {
      "cell_type": "code",
      "source": [
        "import numpy as np\n",
        "import csv\n",
        "\n",
        "def create_movie_names(file_path):\n",
        "    global movie_id_map\n",
        "    movie_names = np.empty(N, dtype=object)\n",
        "\n",
        "    with open(file_path, mode='r', newline='', encoding='utf-8') as file:\n",
        "        reader = csv.DictReader(file)\n",
        "\n",
        "        for row in reader:\n",
        "            movie_id = np.int64(row['movieId'])\n",
        "            movie_name = row['title']\n",
        "\n",
        "            if movie_id not in movie_id_map:\n",
        "                continue\n",
        "\n",
        "            movie_index = movie_id_map[movie_id]\n",
        "            movie_names[movie_index] = movie_name\n",
        "\n",
        "    return movie_names\n",
        "\n",
        "\n",
        "def create_rating_matrix(file_path):\n",
        "    global user_id_map, movie_id_map\n",
        "    ratings = []\n",
        "\n",
        "    with open(file_path, mode='r', newline='', encoding='utf-8') as file:\n",
        "        reader = csv.DictReader(file)\n",
        "\n",
        "        for row in reader:\n",
        "            user_id = np.int64(row['userId'])\n",
        "            movie_id = np.int64(row['movieId'])\n",
        "            rating = np.int64(float(row['rating']) * 2)\n",
        "\n",
        "            if user_id not in user_id_map:\n",
        "                user_id_map[user_id] = len(user_id_map)\n",
        "\n",
        "            if movie_id not in movie_id_map:\n",
        "                movie_id_map[movie_id] = len(movie_id_map)\n",
        "\n",
        "            user_index = user_id_map[user_id]\n",
        "            movie_index = movie_id_map[movie_id]\n",
        "\n",
        "            ratings.append([user_index, movie_index, rating])\n",
        "\n",
        "    return np.array(ratings)\n",
        "\n",
        "\n",
        "def index(ratings, index_type=\"user\"):\n",
        "    locations = []\n",
        "    i = 0\n",
        "\n",
        "    if index_type == \"user\":\n",
        "        current_id = ratings[0][0]\n",
        "    else:\n",
        "        current_id = ratings[0][1]\n",
        "\n",
        "    locations.append(i)\n",
        "    for user_id, movie_id, _ in ratings:\n",
        "        if index_type == \"user\":\n",
        "            if current_id != user_id:\n",
        "                locations.append(i)\n",
        "                current_id = user_id\n",
        "            i += 1\n",
        "        else:\n",
        "            if current_id != movie_id:\n",
        "                locations.append(i)\n",
        "                current_id = movie_id\n",
        "            i += 1\n",
        "\n",
        "    return np.array(locations)"
      ],
      "metadata": {
        "id": "BdmXybSF2uUt"
      },
      "execution_count": null,
      "outputs": []
    },
    {
      "cell_type": "code",
      "source": [
        "user_id_map = {}\n",
        "movie_id_map = {}\n",
        "ratings = create_rating_matrix(file_ratings)\n",
        "N = len(movie_id_map)\n",
        "M = len(user_id_map)"
      ],
      "metadata": {
        "id": "BpLeI8DD221P"
      },
      "execution_count": null,
      "outputs": []
    },
    {
      "cell_type": "code",
      "source": [
        "movie_names = create_movie_names(file_movies)"
      ],
      "metadata": {
        "id": "8XobW8973Ljv"
      },
      "execution_count": null,
      "outputs": []
    },
    {
      "cell_type": "markdown",
      "source": [
        "Create dummy user"
      ],
      "metadata": {
        "id": "2kspzfstsgr9"
      }
    },
    {
      "cell_type": "code",
      "source": [
        "new_user_id = 9999999999\n",
        "user_id_map[new_user_id] = len(user_id_map)\n",
        "new_user_index = user_id_map[new_user_id]\n",
        "movie_index = movie_id_map[2116]\n",
        "ratings = np.vstack((ratings, [new_user_index, movie_index, 10]))\n",
        "M += 1"
      ],
      "metadata": {
        "id": "gYL1nWFS3R62"
      },
      "execution_count": null,
      "outputs": []
    },
    {
      "cell_type": "code",
      "source": [
        "sorted_by_user = ratings[ratings[:, 0].argsort()]\n",
        "sorted_by_movie = ratings[ratings[:, 1].argsort()]"
      ],
      "metadata": {
        "id": "8etej4LR3Yfr"
      },
      "execution_count": null,
      "outputs": []
    },
    {
      "cell_type": "code",
      "source": [
        "user_index = index(sorted_by_user, \"user\")\n",
        "movie_index = index(sorted_by_movie , \"movie\")"
      ],
      "metadata": {
        "id": "WwFzUVFB3gT3"
      },
      "execution_count": null,
      "outputs": []
    },
    {
      "cell_type": "code",
      "source": [
        "total_ratings = len(ratings)"
      ],
      "metadata": {
        "id": "tbAHK7773jPk"
      },
      "execution_count": null,
      "outputs": []
    },
    {
      "cell_type": "markdown",
      "source": [
        "### ALS updates"
      ],
      "metadata": {
        "id": "Qs_6ityu4Hbt"
      }
    },
    {
      "cell_type": "code",
      "source": [
        "from numba import njit, prange\n",
        "import numpy as np\n",
        "\n",
        "@njit\n",
        "def cal_user_bias_update(rating_matrix, m, user_vector, movie_vector, user_biases, movie_biases):\n",
        "    movie_indices = rating_matrix[:, 1]\n",
        "    ratings = rating_matrix[:, 2]\n",
        "\n",
        "    sum_term = np.sum(\n",
        "        0.5 * ratings - np.dot(movie_vector[movie_indices], user_vector[m]) - movie_biases[movie_indices]\n",
        "    )\n",
        "\n",
        "    return (par_lambda * sum_term) / (par_lambda * len(movie_indices) + par_gamma)\n",
        "\n",
        "\n",
        "@njit(parallel=True)\n",
        "def user_bias_update(user_vector, movie_vector, user_biases, movie_biases):\n",
        "    new_user_biases = np.zeros(M, dtype=np.float64)\n",
        "\n",
        "    for m in prange(M):\n",
        "        start_index = user_index[m]\n",
        "        end_index = user_index[m + 1] if m + 1 < M else total_ratings\n",
        "        rating_matrix = sorted_by_user[start_index:end_index]\n",
        "\n",
        "        new_user_biases[m] = cal_user_bias_update(\n",
        "            rating_matrix, m, user_vector, movie_vector, user_biases, movie_biases\n",
        "        )\n",
        "\n",
        "    return new_user_biases\n",
        "\n",
        "\n",
        "@njit\n",
        "def cal_user_vector_update(rating_matrix, m, user_vector, movie_vector, user_biases, movie_biases):\n",
        "    movie_indices = rating_matrix[:, 1]\n",
        "    ratings = rating_matrix[:, 2]\n",
        "\n",
        "    t1 = (par_lambda * np.dot(movie_vector[movie_indices].T, movie_vector[movie_indices])) + (par_tau * np.eye(k))\n",
        "    t2 = par_lambda * np.dot(\n",
        "        movie_vector[movie_indices].T, 0.5 * ratings - user_biases[m] - movie_biases[movie_indices]\n",
        "    )\n",
        "\n",
        "    return np.dot(np.linalg.inv(t1), t2)\n",
        "\n",
        "\n",
        "@njit(parallel=True)\n",
        "def user_vector_update(user_vector, movie_vector, user_biases, movie_biases):\n",
        "    new_user_vector = np.zeros((M, k), dtype=np.float64)\n",
        "\n",
        "    for m in prange(M):\n",
        "        start_index = user_index[m]\n",
        "        end_index = user_index[m + 1] if m + 1 < M else total_ratings\n",
        "        rating_matrix = sorted_by_user[start_index:end_index]\n",
        "\n",
        "        new_user_vector[m] = cal_user_vector_update(\n",
        "            rating_matrix, m, user_vector, movie_vector, user_biases, movie_biases\n",
        "        )\n",
        "\n",
        "    return new_user_vector\n",
        "\n",
        "\n",
        "@njit\n",
        "def cal_movie_bias_update(rating_matrix, n, user_vector, movie_vector, user_biases, movie_biases):\n",
        "    user_indices = rating_matrix[:, 0]\n",
        "    ratings = rating_matrix[:, 2]\n",
        "\n",
        "    sum_term = np.sum(\n",
        "        0.5 * ratings - np.dot(user_vector[user_indices], movie_vector[n]) - user_biases[user_indices]\n",
        "    )\n",
        "\n",
        "    return (par_lambda * sum_term) / (par_lambda * len(user_indices) + par_gamma)\n",
        "\n",
        "\n",
        "@njit(parallel=True)\n",
        "def movie_bias_update(user_vector, movie_vector, user_biases, movie_biases):\n",
        "    new_movie_biases = np.zeros(N, dtype=np.float64)\n",
        "\n",
        "    for n in prange(N):\n",
        "        start_index = movie_index[n]\n",
        "        end_index = movie_index[n + 1] if n + 1 < N else total_ratings\n",
        "        rating_matrix = sorted_by_movie[start_index:end_index]\n",
        "\n",
        "        new_movie_biases[n] = cal_movie_bias_update(\n",
        "            rating_matrix, n, user_vector, movie_vector, user_biases, movie_biases\n",
        "        )\n",
        "\n",
        "    return new_movie_biases\n",
        "\n",
        "\n",
        "@njit\n",
        "def cal_movie_vector_update(rating_matrix, n, user_vector, movie_vector, user_biases, movie_biases):\n",
        "    user_indices = rating_matrix[:, 0]\n",
        "    ratings = rating_matrix[:, 2]\n",
        "\n",
        "    t1 = (par_lambda * np.dot(user_vector[user_indices].T, user_vector[user_indices])) + (par_tau * np.eye(k))\n",
        "    t2 = par_lambda * np.dot(\n",
        "        user_vector[user_indices].T, 0.5 * ratings - movie_biases[n] - user_biases[user_indices]\n",
        "    )\n",
        "\n",
        "    return np.dot(np.linalg.inv(t1), t2)\n",
        "\n",
        "\n",
        "@njit(parallel=True)\n",
        "def movie_vector_update(user_vector, movie_vector, user_biases, movie_biases):\n",
        "    new_movie_vector = np.zeros((N, k), dtype=np.float64)\n",
        "\n",
        "    for n in prange(N):\n",
        "        start_index = movie_index[n]\n",
        "        end_index = movie_index[n + 1] if n + 1 < N else total_ratings\n",
        "        rating_matrix = sorted_by_movie[start_index:end_index]\n",
        "\n",
        "        new_movie_vector[n] = cal_movie_vector_update(\n",
        "            rating_matrix, n, user_vector, movie_vector, user_biases, movie_biases\n",
        "        )\n",
        "\n",
        "    return new_movie_vector"
      ],
      "metadata": {
        "id": "-Ru2mRkcCqT-"
      },
      "execution_count": null,
      "outputs": []
    },
    {
      "cell_type": "markdown",
      "source": [
        "### RMSE calculation"
      ],
      "metadata": {
        "id": "M78c_4a4D8d-"
      }
    },
    {
      "cell_type": "code",
      "source": [
        "from numba import njit, prange\n",
        "import numpy as np\n",
        "\n",
        "@njit\n",
        "def calc_sum_se(rating_matrix, movie, user_vector, movie_vector, user_biases, movie_biases):\n",
        "    movie_indices = rating_matrix[:, 1]\n",
        "    ratings = rating_matrix[:, 2]\n",
        "\n",
        "    se = np.power(\n",
        "        0.5 * ratings - np.dot(movie_vector[movie_indices], user_vector[movie]) - movie_biases[movie_indices] - user_biases[movie], 2\n",
        "    )\n",
        "\n",
        "    return np.sum(se)\n",
        "\n",
        "@njit(parallel=True)\n",
        "def get_rmse(user_vector, movie_vector, user_biases, movie_biases):\n",
        "    sum_se_per_user = np.zeros(M, dtype=np.float64)\n",
        "\n",
        "    for m in prange(M):\n",
        "        start_index = user_index[m]\n",
        "        end_index = user_index[m + 1] if m + 1 < M else total_ratings\n",
        "        rating_matrix = sorted_by_user[start_index:end_index]\n",
        "\n",
        "        sum_se_per_user[m] = calc_sum_se(\n",
        "            rating_matrix, m, user_vector, movie_vector, user_biases, movie_biases\n",
        "        )\n",
        "\n",
        "    sum_se = np.sum(sum_se_per_user)\n",
        "    rmse = np.sqrt(sum_se / total_ratings)\n",
        "\n",
        "    return rmse"
      ],
      "metadata": {
        "id": "sTEUcQa53ywU"
      },
      "execution_count": null,
      "outputs": []
    },
    {
      "cell_type": "markdown",
      "source": [
        "### Train model"
      ],
      "metadata": {
        "id": "KnfE6NcJHP0g"
      }
    },
    {
      "cell_type": "code",
      "source": [
        "import numpy as np\n",
        "import math\n",
        "\n",
        "k = 10\n",
        "par_lambda = 0.1\n",
        "par_tau = 0.1\n",
        "par_gamma = 0.1\n",
        "\n",
        "user_biases = np.zeros(M, dtype=np.float64)\n",
        "movie_biases = np.zeros(N, dtype=np.float64)\n",
        "user_vector = np.random.normal(loc=0, scale=(1 / math.sqrt(k)), size=(M, k)).astype(np.float64)\n",
        "movie_vector = np.random.normal(loc=0, scale=(1 / math.sqrt(k)), size=(N, k)).astype(np.float64)\n",
        "\n",
        "iterations = 50\n",
        "\n",
        "for i in range(iterations):\n",
        "    user_biases = user_bias_update(\n",
        "        user_vector, movie_vector, user_biases, movie_biases\n",
        "    )\n",
        "    user_vector = user_vector_update(\n",
        "        user_vector, movie_vector, user_biases, movie_biases\n",
        "    )\n",
        "\n",
        "    movie_biases = movie_bias_update(\n",
        "        user_vector, movie_vector, user_biases, movie_biases\n",
        "    )\n",
        "    movie_vector = movie_vector_update(\n",
        "        user_vector, movie_vector, user_biases, movie_biases\n",
        "    )\n",
        "\n",
        "    rmse = get_rmse(\n",
        "        user_vector, movie_vector, user_biases, movie_biases\n",
        "    )\n",
        "\n",
        "    print(f\"Iteration: {i + 1}\")\n",
        "    print(f\"RMSE: {rmse}\")"
      ],
      "metadata": {
        "colab": {
          "base_uri": "https://localhost:8080/"
        },
        "id": "_3fS8zcPEAhW",
        "outputId": "11dd756e-8880-4555-a26a-7c3ed4a9bc40"
      },
      "execution_count": null,
      "outputs": [
        {
          "output_type": "stream",
          "name": "stdout",
          "text": [
            "Iteration: 1\n",
            "RMSE: 0.8312999206459868\n",
            "Iteration: 2\n",
            "RMSE: 0.7788262752775393\n",
            "Iteration: 3\n",
            "RMSE: 0.7466759220203129\n",
            "Iteration: 4\n",
            "RMSE: 0.7313855492055249\n",
            "Iteration: 5\n",
            "RMSE: 0.7235127443428423\n",
            "Iteration: 6\n",
            "RMSE: 0.7189258643018344\n",
            "Iteration: 7\n",
            "RMSE: 0.7160251466463813\n",
            "Iteration: 8\n",
            "RMSE: 0.7141069387231831\n",
            "Iteration: 9\n",
            "RMSE: 0.7128046973244372\n",
            "Iteration: 10\n",
            "RMSE: 0.7119034392623506\n",
            "Iteration: 11\n",
            "RMSE: 0.7112698552482509\n",
            "Iteration: 12\n",
            "RMSE: 0.7108182880162776\n",
            "Iteration: 13\n",
            "RMSE: 0.7104916119033441\n",
            "Iteration: 14\n",
            "RMSE: 0.7102511819331944\n",
            "Iteration: 15\n",
            "RMSE: 0.7100709713242297\n",
            "Iteration: 16\n",
            "RMSE: 0.7099334247527748\n",
            "Iteration: 17\n",
            "RMSE: 0.7098265821059473\n",
            "Iteration: 18\n",
            "RMSE: 0.7097422205405866\n",
            "Iteration: 19\n",
            "RMSE: 0.7096746505447615\n",
            "Iteration: 20\n",
            "RMSE: 0.7096197959468995\n",
            "Iteration: 21\n",
            "RMSE: 0.7095746829697206\n",
            "Iteration: 22\n",
            "RMSE: 0.7095371421533965\n",
            "Iteration: 23\n",
            "RMSE: 0.709505560757034\n",
            "Iteration: 24\n",
            "RMSE: 0.7094787172521706\n",
            "Iteration: 25\n",
            "RMSE: 0.7094556782979755\n",
            "Iteration: 26\n",
            "RMSE: 0.7094357258880123\n",
            "Iteration: 27\n",
            "RMSE: 0.7094183043412384\n",
            "Iteration: 28\n",
            "RMSE: 0.7094029819742471\n",
            "Iteration: 29\n",
            "RMSE: 0.7093894185324887\n",
            "Iteration: 30\n",
            "RMSE: 0.709377339700181\n",
            "Iteration: 31\n",
            "RMSE: 0.7093665225237547\n",
            "Iteration: 32\n",
            "RMSE: 0.7093567866248832\n",
            "Iteration: 33\n",
            "RMSE: 0.7093479868373117\n",
            "Iteration: 34\n",
            "RMSE: 0.7093400056054698\n",
            "Iteration: 35\n",
            "RMSE: 0.7093327451904353\n",
            "Iteration: 36\n",
            "RMSE: 0.7093261221439748\n",
            "Iteration: 37\n",
            "RMSE: 0.7093200651094401\n",
            "Iteration: 38\n",
            "RMSE: 0.7093145141756422\n",
            "Iteration: 39\n",
            "RMSE: 0.7093094195585726\n",
            "Iteration: 40\n",
            "RMSE: 0.7093047390406324\n",
            "Iteration: 41\n",
            "RMSE: 0.7093004360783721\n",
            "Iteration: 42\n",
            "RMSE: 0.7092964790629379\n",
            "Iteration: 43\n",
            "RMSE: 0.7092928401802124\n",
            "Iteration: 44\n",
            "RMSE: 0.709289493769998\n",
            "Iteration: 45\n",
            "RMSE: 0.7092864152180844\n",
            "Iteration: 46\n",
            "RMSE: 0.7092835808595792\n",
            "Iteration: 47\n",
            "RMSE: 0.7092809686102245\n",
            "Iteration: 48\n",
            "RMSE: 0.7092785589603825\n",
            "Iteration: 49\n",
            "RMSE: 0.7092763359744593\n",
            "Iteration: 50\n",
            "RMSE: 0.7092742873931073\n"
          ]
        }
      ]
    },
    {
      "cell_type": "markdown",
      "source": [
        "### Dummy user predictions"
      ],
      "metadata": {
        "id": "i6gVCwhHHUTY"
      }
    },
    {
      "cell_type": "code",
      "source": [
        "import numpy as np\n",
        "\n",
        "score = np.dot(movie_vector, user_vector[-1]) + movie_biases\n",
        "top_10 = np.argsort(score)[-10:][::-1]\n",
        "\n",
        "for id in top_10:\n",
        "  print(movie_names[id])"
      ],
      "metadata": {
        "colab": {
          "base_uri": "https://localhost:8080/"
        },
        "id": "2I2CAD3HEdI1",
        "outputId": "ea33ff6c-bff7-43ab-b676-859ddbaf3a8d"
      },
      "execution_count": null,
      "outputs": [
        {
          "output_type": "stream",
          "name": "stdout",
          "text": [
            "Lord of the Rings, The (1978)\n",
            "Lord of the Rings: The Return of the King, The (2003)\n",
            "Lord of the Rings: The Fellowship of the Ring, The (2001)\n",
            "Dune (1984)\n",
            "Lord of the Rings: The Two Towers, The (2002)\n",
            "Star Wars: Episode III - Revenge of the Sith (2005)\n",
            "Star Wars: Episode II - Attack of the Clones (2002)\n",
            "Star Wars: Episode VI - Return of the Jedi (1983)\n",
            "Star Wars: Episode IV - A New Hope (1977)\n",
            "Star Wars: Episode V - The Empire Strikes Back (1980)\n"
          ]
        }
      ]
    },
    {
      "cell_type": "markdown",
      "source": [
        "### AB Testing"
      ],
      "metadata": {
        "id": "RewjsOWEDn8T"
      }
    },
    {
      "cell_type": "code",
      "source": [
        "user_id_map = {}\n",
        "movie_id_map = {}\n",
        "ratings = create_rating_matrix(file_ratings)\n",
        "N = len(movie_id_map)\n",
        "M = len(user_id_map)"
      ],
      "metadata": {
        "id": "AHnj2YmqGaBB"
      },
      "execution_count": null,
      "outputs": []
    },
    {
      "cell_type": "code",
      "source": [
        "movie_names = create_movie_names(file_movies)"
      ],
      "metadata": {
        "id": "EDq2xPOoGeuH"
      },
      "execution_count": null,
      "outputs": []
    },
    {
      "cell_type": "markdown",
      "source": [
        "Create 100 new users"
      ],
      "metadata": {
        "id": "9frdsLw1HAeU"
      }
    },
    {
      "cell_type": "code",
      "source": [
        "import numpy as np\n",
        "\n",
        "for i in range(100):\n",
        "  new_user_id = 9999999999+i\n",
        "  user_id_map[new_user_id] = len(user_id_map)\n",
        "  new_user_index = user_id_map[new_user_id]\n",
        "  movie_index = movie_id_map[2116]+i\n",
        "  ratings = np.vstack((ratings, [new_user_index, movie_index, 10]))\n",
        "  M += 1"
      ],
      "metadata": {
        "id": "HuIE3_ZTGh2-"
      },
      "execution_count": null,
      "outputs": []
    },
    {
      "cell_type": "code",
      "source": [
        "sorted_by_user = ratings[ratings[:, 0].argsort()]\n",
        "sorted_by_movie = ratings[ratings[:, 1].argsort()]"
      ],
      "metadata": {
        "id": "U6C6N7zHGlXd"
      },
      "execution_count": null,
      "outputs": []
    },
    {
      "cell_type": "code",
      "source": [
        "user_index = index(sorted_by_user, \"user\")\n",
        "movie_index = index(sorted_by_movie , \"movie\")"
      ],
      "metadata": {
        "id": "TcofFZnDGouN"
      },
      "execution_count": null,
      "outputs": []
    },
    {
      "cell_type": "code",
      "source": [
        "total_ratings = len(ratings)"
      ],
      "metadata": {
        "id": "z80W_L_gGstM"
      },
      "execution_count": null,
      "outputs": []
    },
    {
      "cell_type": "markdown",
      "source": [
        "### Train model"
      ],
      "metadata": {
        "id": "uTRsajK-HNXx"
      }
    },
    {
      "cell_type": "code",
      "source": [
        "import numpy as np\n",
        "import math\n",
        "\n",
        "k = 10\n",
        "par_lambda = 0.1\n",
        "par_tau = 0.1\n",
        "par_gamma = 0.1\n",
        "\n",
        "user_biases = np.zeros(M, dtype=np.float64)\n",
        "movie_biases = np.zeros(N, dtype=np.float64)\n",
        "user_vector = np.random.normal(loc=0, scale=(1 / math.sqrt(k)), size=(M, k)).astype(np.float64)\n",
        "movie_vector = np.random.normal(loc=0, scale=(1 / math.sqrt(k)), size=(N, k)).astype(np.float64)\n",
        "\n",
        "iterations = 50\n",
        "\n",
        "for i in range(iterations):\n",
        "    user_biases = user_bias_update(\n",
        "        user_vector, movie_vector, user_biases, movie_biases\n",
        "    )\n",
        "    user_vector = user_vector_update(\n",
        "        user_vector, movie_vector, user_biases, movie_biases\n",
        "    )\n",
        "\n",
        "    movie_biases = movie_bias_update(\n",
        "        user_vector, movie_vector, user_biases, movie_biases\n",
        "    )\n",
        "    movie_vector = movie_vector_update(\n",
        "        user_vector, movie_vector, user_biases, movie_biases\n",
        "    )\n",
        "\n",
        "    rmse = get_rmse(\n",
        "        user_vector, movie_vector, user_biases, movie_biases\n",
        "    )\n",
        "\n",
        "    print(f\"Iteration: {i + 1}\")\n",
        "    print(f\"RMSE: {rmse}\")"
      ],
      "metadata": {
        "colab": {
          "base_uri": "https://localhost:8080/"
        },
        "id": "5adRVjyLHMbz",
        "outputId": "467b8fcf-9bf6-4853-afb5-e0a04776f545"
      },
      "execution_count": null,
      "outputs": [
        {
          "output_type": "stream",
          "name": "stdout",
          "text": [
            "Iteration: 1\n",
            "RMSE: 0.8296553408670183\n",
            "Iteration: 2\n",
            "RMSE: 0.7735868248207406\n",
            "Iteration: 3\n",
            "RMSE: 0.7430919527865062\n",
            "Iteration: 4\n",
            "RMSE: 0.7286662464417641\n",
            "Iteration: 5\n",
            "RMSE: 0.7215371952026308\n",
            "Iteration: 6\n",
            "RMSE: 0.7176140764547054\n",
            "Iteration: 7\n",
            "RMSE: 0.715216564633943\n",
            "Iteration: 8\n",
            "RMSE: 0.7136327520336869\n",
            "Iteration: 9\n",
            "RMSE: 0.7125376384007548\n",
            "Iteration: 10\n",
            "RMSE: 0.7117666811934913\n",
            "Iteration: 11\n",
            "RMSE: 0.711221539200816\n",
            "Iteration: 12\n",
            "RMSE: 0.7108354242919087\n",
            "Iteration: 13\n",
            "RMSE: 0.7105602076052189\n",
            "Iteration: 14\n",
            "RMSE: 0.7103615799325019\n",
            "Iteration: 15\n",
            "RMSE: 0.710215777115921\n",
            "Iteration: 16\n",
            "RMSE: 0.7101066990461827\n",
            "Iteration: 17\n",
            "RMSE: 0.7100235108242062\n",
            "Iteration: 18\n",
            "RMSE: 0.7099588316816149\n",
            "Iteration: 19\n",
            "RMSE: 0.7099075469592374\n",
            "Iteration: 20\n",
            "RMSE: 0.7098660581390851\n",
            "Iteration: 21\n",
            "RMSE: 0.7098317910595031\n",
            "Iteration: 22\n",
            "RMSE: 0.7098028826826384\n",
            "Iteration: 23\n",
            "RMSE: 0.7097779785430018\n",
            "Iteration: 24\n",
            "RMSE: 0.7097560918882829\n",
            "Iteration: 25\n",
            "RMSE: 0.7097365010896609\n",
            "Iteration: 26\n",
            "RMSE: 0.7097186750346024\n",
            "Iteration: 27\n",
            "RMSE: 0.7097022209713474\n",
            "Iteration: 28\n",
            "RMSE: 0.7096868491013459\n",
            "Iteration: 29\n",
            "RMSE: 0.7096723476404243\n",
            "Iteration: 30\n",
            "RMSE: 0.7096585633639391\n",
            "Iteration: 31\n",
            "RMSE: 0.7096453855242094\n",
            "Iteration: 32\n",
            "RMSE: 0.7096327335685959\n",
            "Iteration: 33\n",
            "RMSE: 0.7096205489388994\n",
            "Iteration: 34\n",
            "RMSE: 0.7096087897926218\n",
            "Iteration: 35\n",
            "RMSE: 0.7095974272346002\n",
            "Iteration: 36\n",
            "RMSE: 0.7095864420629936\n",
            "Iteration: 37\n",
            "RMSE: 0.7095758215755305\n",
            "Iteration: 38\n",
            "RMSE: 0.7095655568245886\n",
            "Iteration: 39\n",
            "RMSE: 0.7095556409312332\n",
            "Iteration: 40\n",
            "RMSE: 0.7095460682613699\n",
            "Iteration: 41\n",
            "RMSE: 0.7095368337592988\n",
            "Iteration: 42\n",
            "RMSE: 0.7095279320940331\n",
            "Iteration: 43\n",
            "RMSE: 0.7095193567897388\n",
            "Iteration: 44\n",
            "RMSE: 0.7095110996639127\n",
            "Iteration: 45\n",
            "RMSE: 0.7095031507209177\n",
            "Iteration: 46\n",
            "RMSE: 0.7094954983928606\n",
            "Iteration: 47\n",
            "RMSE: 0.7094881299120862\n",
            "Iteration: 48\n",
            "RMSE: 0.7094810316701656\n",
            "Iteration: 49\n",
            "RMSE: 0.7094741895229149\n",
            "Iteration: 50\n",
            "RMSE: 0.7094675890472928\n"
          ]
        }
      ]
    },
    {
      "cell_type": "markdown",
      "source": [
        "### Croup A"
      ],
      "metadata": {
        "id": "KAOqATOiDwdW"
      }
    },
    {
      "cell_type": "code",
      "source": [
        "import random\n",
        "import numpy as np\n",
        "\n",
        "A_feedback = []\n",
        "for i in range(1,51):\n",
        "  score = np.dot(movie_vector, user_vector[-i]) + 0.5*movie_biases\n",
        "  top_10 = np.argsort(score)[-10:][::-1]\n",
        "\n",
        "\n",
        "  feedback = np.zeros(10).astype(np.int64)\n",
        "  j = 0\n",
        "  for movie_index in top_10:\n",
        "    feedback[j] = random.choice([1, 0])\n",
        "    j+=1\n",
        "\n",
        "  A_feedback.append(feedback)"
      ],
      "metadata": {
        "id": "jzymGXB1D6Dw"
      },
      "execution_count": null,
      "outputs": []
    },
    {
      "cell_type": "markdown",
      "source": [
        "### Group B"
      ],
      "metadata": {
        "id": "_ZPOAf-8GzgE"
      }
    },
    {
      "cell_type": "code",
      "source": [
        "import random\n",
        "import numpy as np\n",
        "\n",
        "B_feedback = []\n",
        "for i in range(51,101):\n",
        "  score = np.dot(movie_vector, user_vector[-i]) + 0.5*movie_biases\n",
        "  top_10 = np.argsort(score)[-10:][::-1]\n",
        "\n",
        "\n",
        "  feedback = np.zeros(10).astype(np.int64)\n",
        "  j = 0\n",
        "  for movie_index in top_10:\n",
        "    feedback[j] = random.choice([1, 0])\n",
        "    j+=1\n",
        "\n",
        "  B_feedback.append(feedback)"
      ],
      "metadata": {
        "id": "BCq1LIXOGhs8"
      },
      "execution_count": null,
      "outputs": []
    },
    {
      "cell_type": "markdown",
      "source": [
        "### Perform t-test"
      ],
      "metadata": {
        "id": "KBeUD4p9IQ89"
      }
    },
    {
      "cell_type": "code",
      "source": [
        "from scipy import stats\n",
        "import seaborn as sns\n",
        "import numpy as np\n",
        "\n",
        "A_feedback = np.concatenate(A_feedback)\n",
        "B_feedback = np.concatenate(B_feedback)\n",
        "\n",
        "t_stat, p_value = stats.ttest_ind(A_feedback, B_feedback)\n",
        "\n",
        "print(f'T-statistic: {t_stat}')\n",
        "print(f'P-value: {p_value}')"
      ],
      "metadata": {
        "colab": {
          "base_uri": "https://localhost:8080/"
        },
        "id": "ItG9nJ7_IhHE",
        "outputId": "5001c0e8-713b-4495-c336-dd641e8e1d63"
      },
      "execution_count": null,
      "outputs": [
        {
          "output_type": "stream",
          "name": "stdout",
          "text": [
            "T-statistic: 0.7584604068611095\n",
            "P-value: 0.44835448027394165\n"
          ]
        }
      ]
    },
    {
      "cell_type": "code",
      "source": [
        "import matplotlib.pyplot as plt\n",
        "\n",
        "plt.figure(figsize=(12, 6))\n",
        "sns.kdeplot(A_feedback, bw_adjust=0.5, label='Group A', color='blue', fill=True)\n",
        "sns.kdeplot(B_feedback, bw_adjust=0.5, label='Group B', color='orange', fill=True)\n",
        "plt.xticks([0, 1], ['Likes (0)', 'Dislikes (1)'])\n",
        "plt.xlabel('Feedback')\n",
        "plt.ylabel('Density')\n",
        "plt.legend()\n",
        "plt.savefig('feedback_distribution.pdf')\n",
        "plt.show()"
      ],
      "metadata": {
        "colab": {
          "base_uri": "https://localhost:8080/",
          "height": 546
        },
        "id": "AuWtLGH-I2Vz",
        "outputId": "256f3bb1-fb32-43a1-908c-f308d603ada6"
      },
      "execution_count": null,
      "outputs": [
        {
          "output_type": "display_data",
          "data": {
            "text/plain": [
              "<Figure size 1200x600 with 1 Axes>"
            ],
            "image/png": "[encoded data removed]"
          },
          "metadata": {}
        }
      ]
    }
  ]
}